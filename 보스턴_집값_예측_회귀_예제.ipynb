{
  "nbformat": 4,
  "nbformat_minor": 0,
  "metadata": {
    "colab": {
      "provenance": [],
      "authorship_tag": "ABX9TyNIEGV0XHGj5oYSPyg85KuL",
      "include_colab_link": true
    },
    "kernelspec": {
      "name": "python3",
      "display_name": "Python 3"
    },
    "language_info": {
      "name": "python"
    },
    "accelerator": "GPU",
    "gpuClass": "standard"
  },
  "cells": [
    {
      "cell_type": "markdown",
      "metadata": {
        "id": "view-in-github",
        "colab_type": "text"
      },
      "source": [
        "<a href=\"https://colab.research.google.com/github/byeonguklee/Python/blob/main/%EB%B3%B4%EC%8A%A4%ED%84%B4_%EC%A7%91%EA%B0%92_%EC%98%88%EC%B8%A1_%ED%9A%8C%EA%B7%80_%EC%98%88%EC%A0%9C.ipynb\" target=\"_parent\"><img src=\"https://colab.research.google.com/assets/colab-badge.svg\" alt=\"Open In Colab\"/></a>"
      ]
    },
    {
      "cell_type": "code",
      "execution_count": 1,
      "metadata": {
        "id": "i02LgXXnyyNz"
      },
      "outputs": [],
      "source": [
        "import keras\n",
        "import numpy as np\n",
        "import matplotlib.pyplot as plt"
      ]
    },
    {
      "cell_type": "code",
      "source": [
        "# 보스턴 주택 가격 데이터셋\n",
        "\n",
        "from keras.datasets import boston_housing\n",
        "(train_data, train_labels), (test_data, test_labels) = boston_housing.load_data()"
      ],
      "metadata": {
        "colab": {
          "base_uri": "https://localhost:8080/"
        },
        "id": "jiZggSJEznAl",
        "outputId": "fdf5671e-8fc9-4f59-802f-a76331e3168a"
      },
      "execution_count": 2,
      "outputs": [
        {
          "output_type": "stream",
          "name": "stdout",
          "text": [
            "Downloading data from https://storage.googleapis.com/tensorflow/tf-keras-datasets/boston_housing.npz\n",
            "57026/57026 [==============================] - 0s 0us/step\n"
          ]
        }
      ]
    },
    {
      "cell_type": "code",
      "source": [
        "train_data.shape"
      ],
      "metadata": {
        "colab": {
          "base_uri": "https://localhost:8080/"
        },
        "id": "cZOlbAebzwnv",
        "outputId": "43121199-1471-4e30-b586-29f78c170d1e"
      },
      "execution_count": 3,
      "outputs": [
        {
          "output_type": "execute_result",
          "data": {
            "text/plain": [
              "(404, 13)"
            ]
          },
          "metadata": {},
          "execution_count": 3
        }
      ]
    },
    {
      "cell_type": "code",
      "source": [
        "test_data.shape"
      ],
      "metadata": {
        "colab": {
          "base_uri": "https://localhost:8080/"
        },
        "id": "oTBtmUUTzySN",
        "outputId": "89bd9b3a-b6a9-4cab-f37d-41a00d4b1ecc"
      },
      "execution_count": 4,
      "outputs": [
        {
          "output_type": "execute_result",
          "data": {
            "text/plain": [
              "(102, 13)"
            ]
          },
          "metadata": {},
          "execution_count": 4
        }
      ]
    },
    {
      "cell_type": "code",
      "source": [
        "mean = train_data.mean(axis=0)"
      ],
      "metadata": {
        "id": "Hrs0IWInzz2Z"
      },
      "execution_count": 5,
      "outputs": []
    },
    {
      "cell_type": "code",
      "source": [
        "train_data -= mean \n",
        "#train_data = train_data - mean과 같은 표현"
      ],
      "metadata": {
        "id": "S2qLtuB8z-nB"
      },
      "execution_count": 6,
      "outputs": []
    },
    {
      "cell_type": "code",
      "source": [
        "# 표준 편차를 구한다.\n",
        "std = train_data.std(axis=0)"
      ],
      "metadata": {
        "id": "dBMCMoL-0CZ7"
      },
      "execution_count": 7,
      "outputs": []
    },
    {
      "cell_type": "code",
      "source": [
        "# standard Scaling\n",
        "\n",
        "train_data /= std\n",
        "#train_data = train_data / std 과 같은 표현"
      ],
      "metadata": {
        "id": "7NYb_U2x2SuS"
      },
      "execution_count": 8,
      "outputs": []
    },
    {
      "cell_type": "code",
      "source": [
        "train_data"
      ],
      "metadata": {
        "colab": {
          "base_uri": "https://localhost:8080/"
        },
        "id": "VZTyZbls3Ono",
        "outputId": "0c309bb9-80a0-4328-b88a-913ef1fa49cd"
      },
      "execution_count": 9,
      "outputs": [
        {
          "output_type": "execute_result",
          "data": {
            "text/plain": [
              "array([[-0.27224633, -0.48361547, -0.43576161, ...,  1.14850044,\n",
              "         0.44807713,  0.8252202 ],\n",
              "       [-0.40342651,  2.99178419, -1.33391162, ..., -1.71818909,\n",
              "         0.43190599, -1.32920239],\n",
              "       [ 0.1249402 , -0.48361547,  1.0283258 , ...,  0.78447637,\n",
              "         0.22061726, -1.30850006],\n",
              "       ...,\n",
              "       [-0.40202987,  0.99079651, -0.7415148 , ..., -0.71712291,\n",
              "         0.07943894, -0.67776904],\n",
              "       [-0.17292018, -0.48361547,  1.24588095, ..., -1.71818909,\n",
              "        -0.98764362,  0.42083466],\n",
              "       [-0.40422614,  2.04394792, -1.20161456, ..., -1.30866202,\n",
              "         0.23317118, -1.15392266]])"
            ]
          },
          "metadata": {},
          "execution_count": 9
        }
      ]
    },
    {
      "cell_type": "code",
      "source": [
        "mean = test_data.mean(axis=0)\n",
        "test_data -= mean\n",
        "std = test_data.std(axis=0)\n",
        "test_data /= std"
      ],
      "metadata": {
        "id": "blmlfR2x3RaX"
      },
      "execution_count": 10,
      "outputs": []
    },
    {
      "cell_type": "code",
      "source": [
        "test_data"
      ],
      "metadata": {
        "colab": {
          "base_uri": "https://localhost:8080/"
        },
        "id": "yfgSUhxW3kl7",
        "outputId": "811a2e93-52b0-44de-8706-51cda641af2f"
      },
      "execution_count": 11,
      "outputs": [
        {
          "output_type": "execute_result",
          "data": {
            "text/plain": [
              "array([[ 2.8040301 , -0.50784934,  0.96960877, ...,  0.90513041,\n",
              "        -4.27829517,  2.51324773],\n",
              "       [-0.55530596, -0.50784934, -0.17801704, ..., -0.28485844,\n",
              "         0.3909446 ,  0.58604286],\n",
              "       [-0.56808398, -0.50784934, -0.86176938, ...,  0.90513041,\n",
              "         0.41570668, -0.38506427],\n",
              "       ...,\n",
              "       [-0.23539182, -0.50784934,  1.17955762, ..., -1.82192738,\n",
              "         0.32313459, -1.55879807],\n",
              "       [-0.5113909 , -0.50784934, -0.71849348, ..., -0.48318992,\n",
              "         0.34967446, -0.38956708],\n",
              "       [-0.03148414, -0.50784934,  1.17955762, ..., -1.82192738,\n",
              "        -1.57465677, -0.3745577 ]])"
            ]
          },
          "metadata": {},
          "execution_count": 11
        }
      ]
    },
    {
      "cell_type": "code",
      "source": [
        "# 신경망을 만든다.\n",
        "from keras import models\n",
        "from keras import layers\n",
        "\n",
        "def build_model():\n",
        "  model = models.Sequential()\n",
        "  model.add(layers.Dense(64, activation='relu', input_shape=(train_data.shape[1],)))\n",
        "  model.add(layers.Dense(64, activation='relu'))\n",
        "  model.add(layers.Dense(1))\n",
        "\n",
        "  model.compile(optimizer='rmsprop', loss = 'mse', metrics=['mae'])\n",
        "\n",
        "  return model"
      ],
      "metadata": {
        "id": "K6CbfTfC4EvE"
      },
      "execution_count": 12,
      "outputs": []
    },
    {
      "cell_type": "code",
      "source": [
        "# K-folder 검증\n",
        "\n",
        "k = 4\n",
        "\n",
        "num_val_samples = len(train_data) // k  # 폴더의 사이즈\n",
        "all_scores = []\n",
        "\n",
        "for i in range(k):\n",
        "  print('처리 중인 폴더 #', i)\n",
        "\n",
        "  # 검증 데이터를 준비: k번째 분할\n",
        "  val_data = train_data[i * num_val_samples : (i+1) * num_val_samples] # 슬라이싱\n",
        "  val_labels = train_labels[i * num_val_samples : (i+1) * num_val_samples]\n",
        "\n",
        "  # 훈련 데이터의 준비:\n",
        "  partial_train_data = np.concatenate(\n",
        "      [train_data[ : i * num_val_samples],\n",
        "      train_data[(i+1) * num_val_samples :]], axis=0)\n",
        "  partial_train_labels = np.concatenate(\n",
        "      [train_labels[ : i * num_val_samples],\n",
        "      train_labels[(i+1) * num_val_samples :]], axis=0)\n",
        "  \n",
        "  model = build_model()\n",
        "  model.fit(partial_train_data, partial_train_labels, epochs=20, batch_size=1, verbose=0)\n",
        "\n",
        "  val_mse, val_mae = model.evaluate(val_data, val_labels)\n",
        "  all_scores.append(val_mae)"
      ],
      "metadata": {
        "colab": {
          "base_uri": "https://localhost:8080/"
        },
        "id": "vV72bCn-6nOz",
        "outputId": "7e3a5b4b-197c-495e-ea57-d74bc65ca4e2"
      },
      "execution_count": 13,
      "outputs": [
        {
          "output_type": "stream",
          "name": "stdout",
          "text": [
            "처리 중인 폴더 # 0\n",
            "4/4 [==============================] - 0s 5ms/step - loss: 11.0662 - mae: 2.3982\n",
            "처리 중인 폴더 # 1\n",
            "4/4 [==============================] - 0s 4ms/step - loss: 10.5294 - mae: 2.5393\n",
            "처리 중인 폴더 # 2\n",
            "4/4 [==============================] - 0s 4ms/step - loss: 14.1730 - mae: 2.5027\n",
            "처리 중인 폴더 # 3\n",
            "4/4 [==============================] - 0s 4ms/step - loss: 14.5742 - mae: 2.5503\n"
          ]
        }
      ]
    },
    {
      "cell_type": "code",
      "source": [
        "all_scores"
      ],
      "metadata": {
        "colab": {
          "base_uri": "https://localhost:8080/"
        },
        "id": "XaooglnA6nje",
        "outputId": "c3c25949-47f6-4c82-eba8-3e2c8fad2fb6"
      },
      "execution_count": 14,
      "outputs": [
        {
          "output_type": "execute_result",
          "data": {
            "text/plain": [
              "[2.3981661796569824, 2.5392963886260986, 2.502675771713257, 2.550255537033081]"
            ]
          },
          "metadata": {},
          "execution_count": 14
        }
      ]
    },
    {
      "cell_type": "code",
      "source": [
        "np.mean(all_scores)"
      ],
      "metadata": {
        "colab": {
          "base_uri": "https://localhost:8080/"
        },
        "id": "k8TVnV_6HSDx",
        "outputId": "1cd5aedf-74b1-4ab8-92a7-6e71b6d45650"
      },
      "execution_count": 15,
      "outputs": [
        {
          "output_type": "execute_result",
          "data": {
            "text/plain": [
              "2.4975984692573547"
            ]
          },
          "metadata": {},
          "execution_count": 15
        }
      ]
    },
    {
      "cell_type": "code",
      "source": [
        "# K-folder 검증\n",
        "\n",
        "k = 4\n",
        "num_epochs = 500\n",
        "\n",
        "num_val_samples = len(train_data) // k  # 폴더의 사이즈\n",
        "all_scores = []\n",
        "\n",
        "for i in range(k):\n",
        "  print('처리 중인 폴더 #', i)\n",
        "\n",
        "  # 검증 데이터를 준비: k번째 분할\n",
        "  val_data = train_data[i * num_val_samples : (i+1) * num_val_samples] # 슬라이싱\n",
        "  val_labels = train_labels[i * num_val_samples : (i+1) * num_val_samples]\n",
        "\n",
        "  # 훈련 데이터의 준비:\n",
        "  partial_train_data = np.concatenate(\n",
        "      [train_data[ : i * num_val_samples],\n",
        "      train_data[(i+1) * num_val_samples :]], axis=0)\n",
        "  partial_train_labels = np.concatenate(\n",
        "      [train_labels[ : i * num_val_samples],\n",
        "      train_labels[(i+1) * num_val_samples :]], axis=0)\n",
        "  \n",
        "  model = build_model()\n",
        "  history = model.fit(partial_train_data, partial_train_labels, \n",
        "              epochs=num_epochs, \n",
        "              batch_size=1, \n",
        "              validation_data=(val_data, val_labels),\n",
        "              verbose=0)\n",
        "  mae_history = history.history['mae']\n",
        "\n",
        "  all_scores.append(mae_history)"
      ],
      "metadata": {
        "colab": {
          "base_uri": "https://localhost:8080/"
        },
        "id": "3os51Dh4HY1O",
        "outputId": "46c499a8-35f5-4283-e3f5-0bf3d79bca32"
      },
      "execution_count": 16,
      "outputs": [
        {
          "output_type": "stream",
          "name": "stdout",
          "text": [
            "처리 중인 폴더 # 0\n",
            "처리 중인 폴더 # 1\n",
            "처리 중인 폴더 # 2\n",
            "처리 중인 폴더 # 3\n"
          ]
        }
      ]
    },
    {
      "cell_type": "code",
      "source": [
        "average_mae_history = [np.mean([x[i] for x in all_scores]) for i in range(num_epochs)]"
      ],
      "metadata": {
        "id": "R06OzpsGIwUE"
      },
      "execution_count": 17,
      "outputs": []
    },
    {
      "cell_type": "code",
      "source": [
        "plt.plot(range(1, len(average_mae_history)+1), average_mae_history)\n",
        "plt.xlabel('Epochs')\n",
        "plt.ylabel('Validation MAE')"
      ],
      "metadata": {
        "colab": {
          "base_uri": "https://localhost:8080/",
          "height": 297
        },
        "id": "n6ghWrDEPVD7",
        "outputId": "ca74e9d9-01e4-40b3-dc11-1202bf848f3e"
      },
      "execution_count": 18,
      "outputs": [
        {
          "output_type": "execute_result",
          "data": {
            "text/plain": [
              "Text(0, 0.5, 'Validation MAE')"
            ]
          },
          "metadata": {},
          "execution_count": 18
        },
        {
          "output_type": "display_data",
          "data": {
            "text/plain": [
              "<Figure size 432x288 with 1 Axes>"
            ],
            "image/png": "[encoded data removed]"
          },
          "metadata": {
            "needs_background": "light"
          }
        }
      ]
    },
    {
      "cell_type": "code",
      "source": [],
      "metadata": {
        "id": "YHB_X0-5QWMF"
      },
      "execution_count": 18,
      "outputs": []
    }
  ]
}