{
  "nbformat": 4,
  "nbformat_minor": 0,
  "metadata": {
    "colab": {
      "provenance": [],
      "authorship_tag": "ABX9TyNLHrT7aisCm7v7k51MFSuV",
      "include_colab_link": true
    },
    "kernelspec": {
      "name": "python3",
      "display_name": "Python 3"
    },
    "language_info": {
      "name": "python"
    }
  },
  "cells": [
    {
      "cell_type": "markdown",
      "metadata": {
        "id": "view-in-github",
        "colab_type": "text"
      },
      "source": [
        "<a href=\"https://colab.research.google.com/github/byeonguklee/Python/blob/main/%EC%98%81%ED%99%94_%EB%A6%AC%EB%B7%B0_%EB%B6%84%EB%A5%98_%EC%9D%B4%EC%A7%84_%EB%B6%84%EB%A5%98_%EC%98%88%EC%A0%9C.ipynb\" target=\"_parent\"><img src=\"https://colab.research.google.com/assets/colab-badge.svg\" alt=\"Open In Colab\"/></a>"
      ]
    },
    {
      "cell_type": "code",
      "execution_count": 2,
      "metadata": {
        "colab": {
          "base_uri": "https://localhost:8080/"
        },
        "id": "2107ZshQhq0Y",
        "outputId": "2c145a85-523e-4fad-9d56-0735fc529f7c"
      },
      "outputs": [
        {
          "output_type": "stream",
          "name": "stdout",
          "text": [
            "2.9.0\n"
          ]
        }
      ],
      "source": [
        "import keras\n",
        "print(keras.__version__) # 패키지 버전 정보 찾기 (로딩이 잘 되었는지 확인)"
      ]
    },
    {
      "cell_type": "code",
      "source": [
        "from keras.datasets import imdb\n",
        "(train_data, train_labels), (test_data, test_labels) = imdb.load_data(num_words=10000) #상위 만개의 데이터만 사용"
      ],
      "metadata": {
        "id": "589kmT4Sh6tw"
      },
      "execution_count": 3,
      "outputs": []
    },
    {
      "cell_type": "code",
      "source": [
        "train_data.shape"
      ],
      "metadata": {
        "colab": {
          "base_uri": "https://localhost:8080/"
        },
        "id": "Y1XYSyxkiquc",
        "outputId": "40800e76-f044-4117-8ca3-07fe26cd4144"
      },
      "execution_count": 4,
      "outputs": [
        {
          "output_type": "execute_result",
          "data": {
            "text/plain": [
              "(25000,)"
            ]
          },
          "metadata": {},
          "execution_count": 4
        }
      ]
    },
    {
      "cell_type": "code",
      "source": [
        "# train_data[0]"
      ],
      "metadata": {
        "id": "wi4GfD6Di-Gg"
      },
      "execution_count": 5,
      "outputs": []
    },
    {
      "cell_type": "code",
      "source": [
        "train_labels[0] # 긍정적"
      ],
      "metadata": {
        "colab": {
          "base_uri": "https://localhost:8080/"
        },
        "id": "gG-Ef7A5jGxS",
        "outputId": "1ae7f934-e54a-4f09-e612-e9b096f75ee8"
      },
      "execution_count": 6,
      "outputs": [
        {
          "output_type": "execute_result",
          "data": {
            "text/plain": [
              "1"
            ]
          },
          "metadata": {},
          "execution_count": 6
        }
      ]
    },
    {
      "cell_type": "code",
      "source": [
        "# 문장으로 복원해보기\n",
        "word_index = imdb.get_word_index()\n",
        "\n",
        "#word_index.items() # 개별항목 표시\n",
        "\n",
        "reverse_word_index = dict([value, key] for (key, value) in word_index.items())\n",
        "# 개별항목으로 표시된 (key, value) 값을 value, key로 순서 변경\n",
        "# 기존은 단어가 key 였지만 숫자인 value 값을 key로 만들기 위해"
      ],
      "metadata": {
        "id": "zxQ16dbMj9UE"
      },
      "execution_count": 7,
      "outputs": []
    },
    {
      "cell_type": "code",
      "source": [
        "decoded_review = ' '.join([reverse_word_index.get(i-3, '?') for i in train_data[0]])\n",
        "# ' '.join: 각 단어를 띄워줌\n",
        "# 각 단어마다 i로 넘어가면 dict인 reverse_word_index에서 단어를 찾아냄\n",
        "# -3의 경우 index의 0, 1, 2는 특수문자여서 음수로 만들어 주면서 찾을 수 없는 dict에 대해 ?로 표시되도록\n",
        "\n",
        "decoded_review"
      ],
      "metadata": {
        "colab": {
          "base_uri": "https://localhost:8080/",
          "height": 182
        },
        "id": "wzR2uaOhkre9",
        "outputId": "b28bab8e-473d-4958-ebd5-f05031067971"
      },
      "execution_count": 8,
      "outputs": [
        {
          "output_type": "execute_result",
          "data": {
            "text/plain": [
              "\"? this film was just brilliant casting location scenery story direction everyone's really suited the part they played and you could just imagine being there robert ? is an amazing actor and now the same being director ? father came from the same scottish island as myself so i loved the fact there was a real connection with this film the witty remarks throughout the film were great it was just brilliant so much that i bought the film as soon as it was released for ? and would recommend it to everyone to watch and the fly fishing was amazing really cried at the end it was so sad and you know what they say if you cry at a film it must have been good and this definitely was also ? to the two little boy's that played the ? of norman and paul they were just brilliant children are often left out of the ? list i think because the stars that play them all grown up are such a big profile for the whole film but these children are amazing and should be praised for what they have done don't you think the whole story was so lovely because it was true and was someone's life after all that was shared with us all\""
            ],
            "application/vnd.google.colaboratory.intrinsic+json": {
              "type": "string"
            }
          },
          "metadata": {},
          "execution_count": 8
        }
      ]
    },
    {
      "cell_type": "markdown",
      "source": [
        "### 데이터 준비"
      ],
      "metadata": {
        "id": "dtNXBf3Mp9fW"
      }
    },
    {
      "cell_type": "code",
      "source": [
        "## enumerate의 이해 - index 번호를 만들어주는 함수\n",
        "\n",
        "for i, c in enumerate([\"A\", \"B\", \"C\"], start = 1): # 1부터 시작\n",
        "  print(i, c)"
      ],
      "metadata": {
        "colab": {
          "base_uri": "https://localhost:8080/"
        },
        "id": "h3jjwRTxrOVB",
        "outputId": "15927819-3545-4548-a8be-ada048a64ba8"
      },
      "execution_count": 9,
      "outputs": [
        {
          "output_type": "stream",
          "name": "stdout",
          "text": [
            "1 A\n",
            "2 B\n",
            "3 C\n"
          ]
        }
      ]
    },
    {
      "cell_type": "code",
      "source": [
        "## enumerate의 이해 - 튜플로 저장\n",
        "\n",
        "temp = enumerate([\"A\", \"B\", \"C\"])\n",
        "\n",
        "print(next(temp))\n",
        "print(next(temp))\n",
        "print(next(temp))"
      ],
      "metadata": {
        "colab": {
          "base_uri": "https://localhost:8080/"
        },
        "id": "SmG5evT-uuXE",
        "outputId": "511d8458-d0be-41ae-8dcf-0d444b8d7c1b"
      },
      "execution_count": 10,
      "outputs": [
        {
          "output_type": "stream",
          "name": "stdout",
          "text": [
            "(0, 'A')\n",
            "(1, 'B')\n",
            "(2, 'C')\n"
          ]
        }
      ]
    },
    {
      "cell_type": "code",
      "source": [
        "import numpy as np\n",
        "\n",
        "def vectorize_sequences(sequences, dimension = 10000): # dimension의 default 값 설정\n",
        "  results = np.zeros((len(sequences), dimension)) \n",
        "\n",
        "  for i, sequence in enumerate(sequences): # enuerate로 문장 index를 생성\n",
        "    results[i, sequence] = 1\n",
        "\n",
        "  return results\n",
        "\n",
        "# Data의 Encoding\n",
        "X_train = vectorize_sequences(train_data) \n",
        "X_test = vectorize_sequences(test_data)\n",
        "#sequence에 train_data/test_data인 25000개(행)의 문장, 10000개(열)의 단어만 가져오기"
      ],
      "metadata": {
        "id": "9EI7BGhVo5yn"
      },
      "execution_count": 11,
      "outputs": []
    },
    {
      "cell_type": "code",
      "source": [
        "print(X_train[0])"
      ],
      "metadata": {
        "colab": {
          "base_uri": "https://localhost:8080/"
        },
        "id": "2gMeuMw1wVHw",
        "outputId": "4127bdbe-b33f-46bb-df22-b2510afb0eaa"
      },
      "execution_count": 12,
      "outputs": [
        {
          "output_type": "stream",
          "name": "stdout",
          "text": [
            "[0. 1. 1. ... 0. 0. 0.]\n"
          ]
        }
      ]
    },
    {
      "cell_type": "code",
      "source": [
        "# float type으로 변환\n",
        "\n",
        "y_train = np.asarray(train_labels).astype('float32')\n",
        "y_test = np.asarray(test_labels).astype('float32')"
      ],
      "metadata": {
        "id": "P4nMlPdcz7CT"
      },
      "execution_count": 13,
      "outputs": []
    },
    {
      "cell_type": "markdown",
      "source": [
        "#### 신경망 구축\n",
        "* 얼마나 많은 층을 쌓을 것인가?\n",
        "* 각층에 얼마나 많은 유닛을 둘 것인가?"
      ],
      "metadata": {
        "id": "nQCH8ATN3CSx"
      }
    },
    {
      "cell_type": "code",
      "source": [
        "from keras import models\n",
        "from keras import layers\n",
        "\n",
        "model = models.Sequential()\n",
        "model.add(layers.Dense(16, activation='relu', input_shape=(10000,)))\n",
        "model.add(layers.Dense(16, activation='relu'))\n",
        "model.add(layers.Dense(1, activation='sigmoid')) # 0 또는 1로만 표현되면 되기 때문에"
      ],
      "metadata": {
        "id": "tPtlfcg50ZlD"
      },
      "execution_count": 16,
      "outputs": []
    },
    {
      "cell_type": "code",
      "source": [
        "model.compile(optimizer='rmsprop',\n",
        "              loss='binary_crossentropy',\n",
        "              metrics=['accuracy'])"
      ],
      "metadata": {
        "id": "dPC7yECD1l2G"
      },
      "execution_count": 17,
      "outputs": []
    },
    {
      "cell_type": "markdown",
      "source": [
        "### 검증데이터 구분"
      ],
      "metadata": {
        "id": "3hTJCWIkAPil"
      }
    },
    {
      "cell_type": "code",
      "source": [
        "x_val = X_train[:10000]\n",
        "partial_x_train = X_train[10000:]\n",
        "\n",
        "y_val = y_train[:10000]\n",
        "partial_y_train = y_train[10000:]\n",
        "\n",
        "# 학습(Train)과 동시에 검증(Validation) 하기 위하여 학습 데이터를 구분\n",
        "# 완성도가 높아짐"
      ],
      "metadata": {
        "id": "vJ0vOxQc3I-8"
      },
      "execution_count": 19,
      "outputs": []
    },
    {
      "cell_type": "markdown",
      "source": [
        "### 실험 진행"
      ],
      "metadata": {
        "id": "zlbw6bKmAUI1"
      }
    },
    {
      "cell_type": "code",
      "source": [
        "history = model.fit(partial_x_train,\n",
        "                    partial_y_train,\n",
        "                    epochs=20,\n",
        "                    batch_size=512,\n",
        "                    validation_data=(x_val, y_val))"
      ],
      "metadata": {
        "colab": {
          "base_uri": "https://localhost:8080/"
        },
        "id": "uxHAJbV-9wC3",
        "outputId": "e4084e00-8f94-497f-ad3f-4bf3bc78c647"
      },
      "execution_count": 20,
      "outputs": [
        {
          "output_type": "stream",
          "name": "stdout",
          "text": [
            "Epoch 1/20\n",
            "30/30 [==============================] - 4s 96ms/step - loss: 0.5230 - accuracy: 0.7899 - val_loss: 0.4009 - val_accuracy: 0.8589\n",
            "Epoch 2/20\n",
            "30/30 [==============================] - 1s 49ms/step - loss: 0.3127 - accuracy: 0.9018 - val_loss: 0.3069 - val_accuracy: 0.8834\n",
            "Epoch 3/20\n",
            "30/30 [==============================] - 1s 41ms/step - loss: 0.2202 - accuracy: 0.9276 - val_loss: 0.2850 - val_accuracy: 0.8867\n",
            "Epoch 4/20\n",
            "30/30 [==============================] - 1s 39ms/step - loss: 0.1692 - accuracy: 0.9445 - val_loss: 0.3160 - val_accuracy: 0.8718\n",
            "Epoch 5/20\n",
            "30/30 [==============================] - 1s 39ms/step - loss: 0.1384 - accuracy: 0.9550 - val_loss: 0.2857 - val_accuracy: 0.8861\n",
            "Epoch 6/20\n",
            "30/30 [==============================] - 1s 39ms/step - loss: 0.1143 - accuracy: 0.9645 - val_loss: 0.3109 - val_accuracy: 0.8848\n",
            "Epoch 7/20\n",
            "30/30 [==============================] - 1s 39ms/step - loss: 0.0978 - accuracy: 0.9701 - val_loss: 0.3369 - val_accuracy: 0.8751\n",
            "Epoch 8/20\n",
            "30/30 [==============================] - 1s 39ms/step - loss: 0.0794 - accuracy: 0.9775 - val_loss: 0.3531 - val_accuracy: 0.8749\n",
            "Epoch 9/20\n",
            "30/30 [==============================] - 1s 39ms/step - loss: 0.0683 - accuracy: 0.9822 - val_loss: 0.3758 - val_accuracy: 0.8722\n",
            "Epoch 10/20\n",
            "30/30 [==============================] - 1s 40ms/step - loss: 0.0556 - accuracy: 0.9859 - val_loss: 0.3870 - val_accuracy: 0.8749\n",
            "Epoch 11/20\n",
            "30/30 [==============================] - 1s 39ms/step - loss: 0.0471 - accuracy: 0.9891 - val_loss: 0.4078 - val_accuracy: 0.8768\n",
            "Epoch 12/20\n",
            "30/30 [==============================] - 1s 41ms/step - loss: 0.0382 - accuracy: 0.9905 - val_loss: 0.4523 - val_accuracy: 0.8739\n",
            "Epoch 13/20\n",
            "30/30 [==============================] - 1s 39ms/step - loss: 0.0281 - accuracy: 0.9950 - val_loss: 0.4777 - val_accuracy: 0.8682\n",
            "Epoch 14/20\n",
            "30/30 [==============================] - 1s 40ms/step - loss: 0.0257 - accuracy: 0.9951 - val_loss: 0.5028 - val_accuracy: 0.8694\n",
            "Epoch 15/20\n",
            "30/30 [==============================] - 1s 40ms/step - loss: 0.0183 - accuracy: 0.9973 - val_loss: 0.5580 - val_accuracy: 0.8689\n",
            "Epoch 16/20\n",
            "30/30 [==============================] - 1s 39ms/step - loss: 0.0149 - accuracy: 0.9980 - val_loss: 0.5800 - val_accuracy: 0.8694\n",
            "Epoch 17/20\n",
            "30/30 [==============================] - 1s 40ms/step - loss: 0.0115 - accuracy: 0.9989 - val_loss: 0.6095 - val_accuracy: 0.8667\n",
            "Epoch 18/20\n",
            "30/30 [==============================] - 1s 40ms/step - loss: 0.0125 - accuracy: 0.9973 - val_loss: 0.6457 - val_accuracy: 0.8676\n",
            "Epoch 19/20\n",
            "30/30 [==============================] - 1s 40ms/step - loss: 0.0054 - accuracy: 0.9997 - val_loss: 0.6786 - val_accuracy: 0.8681\n",
            "Epoch 20/20\n",
            "30/30 [==============================] - 2s 55ms/step - loss: 0.0083 - accuracy: 0.9988 - val_loss: 0.7089 - val_accuracy: 0.8659\n"
          ]
        }
      ]
    },
    {
      "cell_type": "markdown",
      "source": [
        "### 실험 결과 데이터 가져오기"
      ],
      "metadata": {
        "id": "_b5O3cWoALZ1"
      }
    },
    {
      "cell_type": "code",
      "source": [
        "acc = history.history['accuracy']\n",
        "val_acc = history.history['val_accuracy']\n",
        "loss = history.history['loss']\n",
        "val_loss = history.history['val_loss']\n",
        "epochs = range(1, len(acc) + 1)"
      ],
      "metadata": {
        "id": "E0MHfuGh-d_9"
      },
      "execution_count": 33,
      "outputs": []
    },
    {
      "cell_type": "markdown",
      "source": [
        "### 실험 결과 시각화"
      ],
      "metadata": {
        "id": "7BRsNkS3Ak9l"
      }
    },
    {
      "cell_type": "code",
      "source": [
        "import matplotlib.pyplot as plt\n",
        "\n",
        "plt.plot(epochs, loss, 'bo', label = 'Training Loss') # 학습에 따른 손실 값\n",
        "plt.plot(epochs, val_loss, 'b-', label = 'Validation Loss') # 검증 데이터의 손실 값\n",
        "plt.title('Training and Validation loss')\n",
        "plt.xlabel('Epochs')\n",
        "plt.ylabel('Loss')\n",
        "plt.legend()"
      ],
      "metadata": {
        "colab": {
          "base_uri": "https://localhost:8080/",
          "height": 313
        },
        "id": "hv7Q9kpQ_sRP",
        "outputId": "e998f87a-5527-4ad1-c367-7ee50e39adee"
      },
      "execution_count": 30,
      "outputs": [
        {
          "output_type": "execute_result",
          "data": {
            "text/plain": [
              "<matplotlib.legend.Legend at 0x7fbb5f655210>"
            ]
          },
          "metadata": {},
          "execution_count": 30
        },
        {
          "output_type": "display_data",
          "data": {
            "text/plain": [
              "<Figure size 432x288 with 1 Axes>"
            ],
            "image/png": "[encoded data removed]"
          },
          "metadata": {
            "needs_background": "light"
          }
        }
      ]
    },
    {
      "cell_type": "code",
      "source": [
        "plt.plot(epochs, acc, 'bo', label = 'Training Accuracy') # 학습에 따른 정확도\n",
        "plt.plot(epochs, val_acc, 'b-', label = 'Validation Accuracy') # 검증 데이터의 정확도\n",
        "plt.title('Training and Validation Accuracy')\n",
        "plt.xlabel('Epochs')\n",
        "plt.ylabel('Accuracy')\n",
        "plt.legend()"
      ],
      "metadata": {
        "colab": {
          "base_uri": "https://localhost:8080/",
          "height": 313
        },
        "id": "5FNJVtlKA51F",
        "outputId": "b83a3be3-1262-448d-da36-ce756eb801ab"
      },
      "execution_count": 34,
      "outputs": [
        {
          "output_type": "execute_result",
          "data": {
            "text/plain": [
              "<matplotlib.legend.Legend at 0x7fbb5f48c1d0>"
            ]
          },
          "metadata": {},
          "execution_count": 34
        },
        {
          "output_type": "display_data",
          "data": {
            "text/plain": [
              "<Figure size 432x288 with 1 Axes>"
            ],
            "image/png": "[encoded data removed]"
          },
          "metadata": {
            "needs_background": "light"
          }
        }
      ]
    },
    {
      "cell_type": "code",
      "source": [
        "new_model = models.Sequential()\n",
        "new_model.add(layers.Dense(16, activation='relu', input_shape=(10000,)))\n",
        "new_model.add(layers.Dense(16, activation='relu'))\n",
        "new_model.add(layers.Dense(1, activation='sigmoid'))"
      ],
      "metadata": {
        "id": "YC63hGmJDpb0"
      },
      "execution_count": 35,
      "outputs": []
    },
    {
      "cell_type": "code",
      "source": [
        "new_model.compile(optimizer='rmsprop',\n",
        "              loss='binary_crossentropy',\n",
        "              metrics=['accuracy'])"
      ],
      "metadata": {
        "id": "8szq47l8DvgE"
      },
      "execution_count": 36,
      "outputs": []
    },
    {
      "cell_type": "code",
      "source": [
        "history = new_model.fit(partial_x_train,\n",
        "                    partial_y_train,\n",
        "                    epochs=3,  # 검증 값이 \n",
        "                    batch_size=512,\n",
        "                    validation_data=(x_val, y_val))"
      ],
      "metadata": {
        "colab": {
          "base_uri": "https://localhost:8080/"
        },
        "id": "OWRXsOZLCawE",
        "outputId": "324920e4-cbeb-4d3a-f614-15c05aa718d7"
      },
      "execution_count": 37,
      "outputs": [
        {
          "output_type": "stream",
          "name": "stdout",
          "text": [
            "Epoch 1/3\n",
            "30/30 [==============================] - 3s 53ms/step - loss: 0.5075 - accuracy: 0.7831 - val_loss: 0.3789 - val_accuracy: 0.8701\n",
            "Epoch 2/3\n",
            "30/30 [==============================] - 1s 38ms/step - loss: 0.3019 - accuracy: 0.9045 - val_loss: 0.3136 - val_accuracy: 0.8805\n",
            "Epoch 3/3\n",
            "30/30 [==============================] - 1s 38ms/step - loss: 0.2219 - accuracy: 0.9291 - val_loss: 0.3059 - val_accuracy: 0.8776\n"
          ]
        }
      ]
    },
    {
      "cell_type": "code",
      "source": [
        "acc = history.history['accuracy']\n",
        "val_acc = history.history['val_accuracy']\n",
        "loss = history.history['loss']\n",
        "val_loss = history.history['val_loss']\n",
        "epochs = range(1, len(acc) + 1)"
      ],
      "metadata": {
        "id": "GtVM95rgEe9U"
      },
      "execution_count": 39,
      "outputs": []
    },
    {
      "cell_type": "code",
      "source": [
        "plt.plot(epochs, loss, 'bo', label = 'Training Loss') # 학습에 따른 손실 값\n",
        "plt.plot(epochs, val_loss, 'b-', label = 'Validation Loss') # 검증 데이터의 손실 값\n",
        "plt.title('Training and Validation loss')\n",
        "plt.xlabel('Epochs')\n",
        "plt.ylabel('Loss')\n",
        "plt.legend()"
      ],
      "metadata": {
        "colab": {
          "base_uri": "https://localhost:8080/",
          "height": 313
        },
        "id": "mocKfyQQD0cU",
        "outputId": "4aa65b96-4001-4cdf-87ff-8b726be3dc88"
      },
      "execution_count": 40,
      "outputs": [
        {
          "output_type": "execute_result",
          "data": {
            "text/plain": [
              "<matplotlib.legend.Legend at 0x7fbb5f056d10>"
            ]
          },
          "metadata": {},
          "execution_count": 40
        },
        {
          "output_type": "display_data",
          "data": {
            "text/plain": [
              "<Figure size 432x288 with 1 Axes>"
            ],
            "image/png": "[encoded data removed]"
          },
          "metadata": {
            "needs_background": "light"
          }
        }
      ]
    },
    {
      "cell_type": "code",
      "source": [
        "plt.plot(epochs, acc, 'bo', label = 'Training Accuracy') # 학습에 따른 정확도\n",
        "plt.plot(epochs, val_acc, 'b-', label = 'Validation Accuracy') # 검증 데이터의 정확도\n",
        "plt.title('Training and Validation Accuracy')\n",
        "plt.xlabel('Epochs')\n",
        "plt.ylabel('Accuracy')\n",
        "plt.legend()"
      ],
      "metadata": {
        "colab": {
          "base_uri": "https://localhost:8080/",
          "height": 313
        },
        "id": "RGom1h-NEbsY",
        "outputId": "99858a27-2d4b-4bf0-dc44-e3136f266a64"
      },
      "execution_count": 41,
      "outputs": [
        {
          "output_type": "execute_result",
          "data": {
            "text/plain": [
              "<matplotlib.legend.Legend at 0x7fbb5f006690>"
            ]
          },
          "metadata": {},
          "execution_count": 41
        },
        {
          "output_type": "display_data",
          "data": {
            "text/plain": [
              "<Figure size 432x288 with 1 Axes>"
            ],
            "image/png": "[encoded data removed]"
          },
          "metadata": {
            "needs_background": "light"
          }
        }
      ]
    },
    {
      "cell_type": "markdown",
      "source": [
        "#### tensorflow optimizer 이용"
      ],
      "metadata": {
        "id": "yZSvqAD0W5G7"
      }
    },
    {
      "cell_type": "code",
      "source": [
        "brand_new_model = models.Sequential()\n",
        "brand_new_model.add(layers.Dense(16, activation='relu', input_shape=(10000,)))\n",
        "brand_new_model.add(layers.Dense(16, activation='relu'))\n",
        "brand_new_model.add(layers.Dense(1, activation='sigmoid'))"
      ],
      "metadata": {
        "id": "mTJxK0oKGNjC"
      },
      "execution_count": 42,
      "outputs": []
    },
    {
      "cell_type": "code",
      "source": [
        "from tensorflow.keras import optimizers\n",
        "\n",
        "brand_new_model.compile(optimizer=optimizers.RMSprop(lr=0.001),\n",
        "              loss='binary_crossentropy',\n",
        "              metrics=['accuracy'])"
      ],
      "metadata": {
        "id": "rjLwi4wbEka2"
      },
      "execution_count": 49,
      "outputs": []
    },
    {
      "cell_type": "code",
      "source": [
        "history = brand_new_model.fit(partial_x_train,\n",
        "                    partial_y_train,\n",
        "                    epochs=20,\n",
        "                    batch_size=512,\n",
        "                    validation_data=(x_val, y_val))"
      ],
      "metadata": {
        "colab": {
          "base_uri": "https://localhost:8080/"
        },
        "id": "Gy-amSCtGYyD",
        "outputId": "ff184102-990a-4a42-efd6-cc17ba117649"
      },
      "execution_count": 50,
      "outputs": [
        {
          "output_type": "stream",
          "name": "stdout",
          "text": [
            "Epoch 1/20\n",
            "30/30 [==============================] - 4s 75ms/step - loss: 0.5074 - accuracy: 0.7846 - val_loss: 0.3743 - val_accuracy: 0.8722\n",
            "Epoch 2/20\n",
            "30/30 [==============================] - 1s 34ms/step - loss: 0.2968 - accuracy: 0.9029 - val_loss: 0.2986 - val_accuracy: 0.8881\n",
            "Epoch 3/20\n",
            "30/30 [==============================] - 1s 34ms/step - loss: 0.2188 - accuracy: 0.9278 - val_loss: 0.2771 - val_accuracy: 0.8923\n",
            "Epoch 4/20\n",
            "30/30 [==============================] - 1s 35ms/step - loss: 0.1725 - accuracy: 0.9444 - val_loss: 0.2793 - val_accuracy: 0.8885\n",
            "Epoch 5/20\n",
            "30/30 [==============================] - 1s 35ms/step - loss: 0.1386 - accuracy: 0.9566 - val_loss: 0.2824 - val_accuracy: 0.8890\n",
            "Epoch 6/20\n",
            "30/30 [==============================] - 1s 35ms/step - loss: 0.1157 - accuracy: 0.9631 - val_loss: 0.3436 - val_accuracy: 0.8694\n",
            "Epoch 7/20\n",
            "30/30 [==============================] - 1s 35ms/step - loss: 0.0954 - accuracy: 0.9712 - val_loss: 0.3133 - val_accuracy: 0.8853\n",
            "Epoch 8/20\n",
            "30/30 [==============================] - 1s 35ms/step - loss: 0.0777 - accuracy: 0.9786 - val_loss: 0.3741 - val_accuracy: 0.8720\n",
            "Epoch 9/20\n",
            "30/30 [==============================] - 1s 35ms/step - loss: 0.0650 - accuracy: 0.9823 - val_loss: 0.3756 - val_accuracy: 0.8756\n",
            "Epoch 10/20\n",
            "30/30 [==============================] - 1s 34ms/step - loss: 0.0542 - accuracy: 0.9868 - val_loss: 0.3905 - val_accuracy: 0.8783\n",
            "Epoch 11/20\n",
            "30/30 [==============================] - 1s 35ms/step - loss: 0.0453 - accuracy: 0.9887 - val_loss: 0.4236 - val_accuracy: 0.8719\n",
            "Epoch 12/20\n",
            "30/30 [==============================] - 1s 35ms/step - loss: 0.0343 - accuracy: 0.9924 - val_loss: 0.4603 - val_accuracy: 0.8731\n",
            "Epoch 13/20\n",
            "30/30 [==============================] - 1s 35ms/step - loss: 0.0276 - accuracy: 0.9938 - val_loss: 0.4825 - val_accuracy: 0.8742\n",
            "Epoch 14/20\n",
            "30/30 [==============================] - 1s 35ms/step - loss: 0.0242 - accuracy: 0.9949 - val_loss: 0.5124 - val_accuracy: 0.8718\n",
            "Epoch 15/20\n",
            "30/30 [==============================] - 1s 35ms/step - loss: 0.0178 - accuracy: 0.9970 - val_loss: 0.5522 - val_accuracy: 0.8716\n",
            "Epoch 16/20\n",
            "30/30 [==============================] - 1s 36ms/step - loss: 0.0160 - accuracy: 0.9972 - val_loss: 0.5801 - val_accuracy: 0.8712\n",
            "Epoch 17/20\n",
            "30/30 [==============================] - 1s 35ms/step - loss: 0.0129 - accuracy: 0.9978 - val_loss: 0.6139 - val_accuracy: 0.8687\n",
            "Epoch 18/20\n",
            "30/30 [==============================] - 1s 35ms/step - loss: 0.0071 - accuracy: 0.9995 - val_loss: 0.7665 - val_accuracy: 0.8512\n",
            "Epoch 19/20\n",
            "30/30 [==============================] - 1s 35ms/step - loss: 0.0086 - accuracy: 0.9988 - val_loss: 0.7053 - val_accuracy: 0.8657\n",
            "Epoch 20/20\n",
            "30/30 [==============================] - 1s 34ms/step - loss: 0.0041 - accuracy: 0.9999 - val_loss: 0.7147 - val_accuracy: 0.8648\n"
          ]
        }
      ]
    },
    {
      "cell_type": "code",
      "source": [
        "acc = history.history['accuracy']\n",
        "val_acc = history.history['val_accuracy']\n",
        "loss = history.history['loss']\n",
        "val_loss = history.history['val_loss']\n",
        "epochs = range(1, len(acc) + 1)"
      ],
      "metadata": {
        "id": "11IcNV9mWvpS"
      },
      "execution_count": 52,
      "outputs": []
    },
    {
      "cell_type": "code",
      "source": [
        "plt.plot(epochs, loss, 'bo', label = 'Training Loss') # 학습에 따른 손실 값\n",
        "plt.plot(epochs, val_loss, 'b-', label = 'Validation Loss') # 검증 데이터의 손실 값\n",
        "plt.title('Training and Validation loss')\n",
        "plt.xlabel('Epochs')\n",
        "plt.ylabel('Loss')\n",
        "plt.legend()"
      ],
      "metadata": {
        "colab": {
          "base_uri": "https://localhost:8080/",
          "height": 313
        },
        "id": "d6oe_6XwGwtN",
        "outputId": "3af0a4a5-d7ae-4213-9a46-00b4a4fb5047"
      },
      "execution_count": 53,
      "outputs": [
        {
          "output_type": "execute_result",
          "data": {
            "text/plain": [
              "<matplotlib.legend.Legend at 0x7fbb5f757350>"
            ]
          },
          "metadata": {},
          "execution_count": 53
        },
        {
          "output_type": "display_data",
          "data": {
            "text/plain": [
              "<Figure size 432x288 with 1 Axes>"
            ],
            "image/png": "[encoded data removed]"
          },
          "metadata": {
            "needs_background": "light"
          }
        }
      ]
    },
    {
      "cell_type": "code",
      "source": [
        "plt.plot(epochs, acc, 'bo', label = 'Training Accuracy') # 학습에 따른 정확도\n",
        "plt.plot(epochs, val_acc, 'b-', label = 'Validation Accuracy') # 검증 데이터의 정확도\n",
        "plt.title('Training and Validation Accuracy')\n",
        "plt.xlabel('Epochs')\n",
        "plt.ylabel('Accuracy')\n",
        "plt.legend()"
      ],
      "metadata": {
        "colab": {
          "base_uri": "https://localhost:8080/",
          "height": 313
        },
        "id": "8OxsYWQCWsJ0",
        "outputId": "deb278af-5667-43be-c460-9611569cd9b3"
      },
      "execution_count": 54,
      "outputs": [
        {
          "output_type": "execute_result",
          "data": {
            "text/plain": [
              "<matplotlib.legend.Legend at 0x7fbb5f7b5b50>"
            ]
          },
          "metadata": {},
          "execution_count": 54
        },
        {
          "output_type": "display_data",
          "data": {
            "text/plain": [
              "<Figure size 432x288 with 1 Axes>"
            ],
            "image/png": "[encoded data removed]"
          },
          "metadata": {
            "needs_background": "light"
          }
        }
      ]
    }
  ]
}