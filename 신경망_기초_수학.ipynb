{
  "nbformat": 4,
  "nbformat_minor": 0,
  "metadata": {
    "colab": {
      "provenance": [],
      "authorship_tag": "ABX9TyNamNuPsX+X+ltthb4U2CHp",
      "include_colab_link": true
    },
    "kernelspec": {
      "name": "python3",
      "display_name": "Python 3"
    },
    "language_info": {
      "name": "python"
    }
  },
  "cells": [
    {
      "cell_type": "markdown",
      "metadata": {
        "id": "view-in-github",
        "colab_type": "text"
      },
      "source": [
        "<a href=\"https://colab.research.google.com/github/byeonguklee/Python/blob/main/%EC%8B%A0%EA%B2%BD%EB%A7%9D_%EA%B8%B0%EC%B4%88_%EC%88%98%ED%95%99.ipynb\" target=\"_parent\"><img src=\"https://colab.research.google.com/assets/colab-badge.svg\" alt=\"Open In Colab\"/></a>"
      ]
    },
    {
      "cell_type": "code",
      "execution_count": null,
      "metadata": {
        "id": "LFKv3Ac6kCu2"
      },
      "outputs": [],
      "source": [
        "import math\n",
        "import numpy as np\n",
        "import matplotlib.pyplot as plt\n",
        "plt.style.use('seaborn-whitegrid')"
      ]
    },
    {
      "cell_type": "markdown",
      "source": [
        "### 일차 함수\n",
        " * y = ax + b\n",
        "  -> a: 기울기, b: 절편\n",
        " * 그래프 상에서 직선인 그래프"
      ],
      "metadata": {
        "id": "UYO33eaokV4C"
      }
    },
    {
      "cell_type": "code",
      "source": [
        "def linear_function(x):\n",
        "  a = 0.8\n",
        "  b = 2\n",
        "\n",
        "  return a * x + b"
      ],
      "metadata": {
        "id": "lYWzAlz4lBFe"
      },
      "execution_count": null,
      "outputs": []
    },
    {
      "cell_type": "code",
      "source": [
        "print(linear_function(5))"
      ],
      "metadata": {
        "colab": {
          "base_uri": "https://localhost:8080/"
        },
        "id": "JTGRHTDHlUUv",
        "outputId": "1ea21d7c-b473-4c67-e904-65f6a316b944"
      },
      "execution_count": null,
      "outputs": [
        {
          "output_type": "stream",
          "name": "stdout",
          "text": [
            "6.0\n"
          ]
        }
      ]
    },
    {
      "cell_type": "code",
      "source": [
        "x = np.arange(-5,5,0.1)\n",
        "y = linear_function(x) # 배열을 넣으면 값도 배열로 나온다.\n",
        "\n",
        "plt.plot(x, y)\n",
        "plt.xlabel('x')\n",
        "plt.ylabel('y')\n",
        "plt.title('Linear Function')"
      ],
      "metadata": {
        "colab": {
          "base_uri": "https://localhost:8080/",
          "height": 309
        },
        "id": "XHMENbFblvXe",
        "outputId": "92abcb88-6d28-4f5f-b5c5-4ce5b4438ad0"
      },
      "execution_count": null,
      "outputs": [
        {
          "output_type": "execute_result",
          "data": {
            "text/plain": [
              "Text(0.5, 1.0, 'Linear Function')"
            ]
          },
          "metadata": {},
          "execution_count": 4
        },
        {
          "output_type": "display_data",
          "data": {
            "text/plain": [
              "<Figure size 432x288 with 1 Axes>"
            ],
            "image/png": "[encoded data removed]"
          },
          "metadata": {}
        }
      ]
    },
    {
      "cell_type": "markdown",
      "source": [
        "### 이차함수\n",
        "* y = ax^2 + bx + c"
      ],
      "metadata": {
        "id": "8CPF3c6vn6bB"
      }
    },
    {
      "cell_type": "code",
      "source": [
        "def qudratic_function(x):\n",
        "  a = 1\n",
        "  b = -1\n",
        "  c = -2\n",
        "\n",
        "  return a*x**2 + b*x + c"
      ],
      "metadata": {
        "id": "jisVdUAhmNU5"
      },
      "execution_count": null,
      "outputs": []
    },
    {
      "cell_type": "code",
      "source": [
        "print(qudratic_function(2))"
      ],
      "metadata": {
        "colab": {
          "base_uri": "https://localhost:8080/"
        },
        "id": "cDrk7m_iobdI",
        "outputId": "5d743eb1-7f1f-4ec0-b105-76889b89e0d1"
      },
      "execution_count": null,
      "outputs": [
        {
          "output_type": "stream",
          "name": "stdout",
          "text": [
            "0\n"
          ]
        }
      ]
    },
    {
      "cell_type": "code",
      "source": [
        "y = qudratic_function(x)\n",
        "\n",
        "plt.plot(x,y)\n",
        "plt.xlabel('x')\n",
        "plt.ylabel('y')\n",
        "plt.title('Quadratic Function')"
      ],
      "metadata": {
        "colab": {
          "base_uri": "https://localhost:8080/",
          "height": 309
        },
        "id": "Iv5_wkHjohEr",
        "outputId": "3d38d45f-8cd2-4d1d-bb02-312da62e89c1"
      },
      "execution_count": null,
      "outputs": [
        {
          "output_type": "execute_result",
          "data": {
            "text/plain": [
              "Text(0.5, 1.0, 'Quadratic Function')"
            ]
          },
          "metadata": {},
          "execution_count": 7
        },
        {
          "output_type": "display_data",
          "data": {
            "text/plain": [
              "<Figure size 432x288 with 1 Axes>"
            ],
            "image/png": "[encoded data removed]"
          },
          "metadata": {}
        }
      ]
    },
    {
      "cell_type": "markdown",
      "source": [
        "### 삼차함수(다항함수)\n",
        "* y = ax^3 + bx^2 + cx + d"
      ],
      "metadata": {
        "id": "eDKd-8WkpAlY"
      }
    },
    {
      "cell_type": "code",
      "source": [
        "def cubic_fucntion(x):\n",
        "  a = 4\n",
        "  b = 0\n",
        "  c = -1\n",
        "  d = -8\n",
        "\n",
        "  return a*x**3 + b*x**2 + c*x + d"
      ],
      "metadata": {
        "id": "u7JjN6I3onNj"
      },
      "execution_count": null,
      "outputs": []
    },
    {
      "cell_type": "code",
      "source": [
        "y = cubic_fucntion(x)\n",
        "\n",
        "plt.plot(x, y)\n",
        "plt.xlabel('x')\n",
        "plt.ylabel('y')\n",
        "plt.title('Cunic Function')"
      ],
      "metadata": {
        "colab": {
          "base_uri": "https://localhost:8080/",
          "height": 309
        },
        "id": "xgvvemkgpw6x",
        "outputId": "e15f1c0f-69de-4202-b1dd-dffe8425ede6"
      },
      "execution_count": null,
      "outputs": [
        {
          "output_type": "execute_result",
          "data": {
            "text/plain": [
              "Text(0.5, 1.0, 'Cunic Function')"
            ]
          },
          "metadata": {},
          "execution_count": 9
        },
        {
          "output_type": "display_data",
          "data": {
            "text/plain": [
              "<Figure size 432x288 with 1 Axes>"
            ],
            "image/png": "[encoded data removed]"
          },
          "metadata": {}
        }
      ]
    },
    {
      "cell_type": "markdown",
      "source": [
        "### 함수의 최소값/최대값"
      ],
      "metadata": {
        "id": "ZGQLylmtqO3P"
      }
    },
    {
      "cell_type": "code",
      "source": [
        "def my_func(x):\n",
        "  a = 1\n",
        "  b = -3\n",
        "  c = 10\n",
        "\n",
        "  return a*x**2 + b*x + c # 이차 함수"
      ],
      "metadata": {
        "id": "mHbTIJJFp7fz"
      },
      "execution_count": null,
      "outputs": []
    },
    {
      "cell_type": "code",
      "source": [
        "x = np.arange(-10,10,0.1)\n",
        "y = my_func(x)\n",
        "\n",
        "plt.plot(x, y)\n",
        "plt.xlabel('x')\n",
        "plt.ylabel('y')\n",
        "plt.title('My Function')\n",
        "plt.scatter(1.5, my_func(1.5))"
      ],
      "metadata": {
        "colab": {
          "base_uri": "https://localhost:8080/",
          "height": 309
        },
        "id": "a9wHXPEzqmjN",
        "outputId": "dfcf0d5c-faf8-4309-9b64-e87d1b6f55a8"
      },
      "execution_count": null,
      "outputs": [
        {
          "output_type": "execute_result",
          "data": {
            "text/plain": [
              "<matplotlib.collections.PathCollection at 0x7f86ec9c8150>"
            ]
          },
          "metadata": {},
          "execution_count": 11
        },
        {
          "output_type": "display_data",
          "data": {
            "text/plain": [
              "<Figure size 432x288 with 1 Axes>"
            ],
            "image/png": "[encoded data removed]"
          },
          "metadata": {}
        }
      ]
    },
    {
      "cell_type": "markdown",
      "source": [
        "### 지수함수"
      ],
      "metadata": {
        "id": "nsA4bJN-rvoP"
      }
    },
    {
      "cell_type": "code",
      "source": [
        "def exponential_function(x):\n",
        "  a = 4\n",
        "\n",
        "  return a**x"
      ],
      "metadata": {
        "id": "ct9COb9Dq1AK"
      },
      "execution_count": null,
      "outputs": []
    },
    {
      "cell_type": "code",
      "source": [
        "print(exponential_function(4))\n",
        "print(exponential_function(0))"
      ],
      "metadata": {
        "colab": {
          "base_uri": "https://localhost:8080/"
        },
        "id": "2zcKcNsPsMA_",
        "outputId": "d11adefa-2186-4c4c-d548-0825948948ec"
      },
      "execution_count": null,
      "outputs": [
        {
          "output_type": "stream",
          "name": "stdout",
          "text": [
            "256\n",
            "1\n"
          ]
        }
      ]
    },
    {
      "cell_type": "code",
      "source": [
        "x = np.arange(-3,2,0.1)\n",
        "y = exponential_function(x)\n",
        "\n",
        "plt.plot(x, y)\n",
        "plt.xlabel('x')\n",
        "plt.ylabel('y')\n",
        "plt.xlim(-4,3)\n",
        "plt.ylim(-1,15)\n",
        "plt.title('Exponential Function')"
      ],
      "metadata": {
        "colab": {
          "base_uri": "https://localhost:8080/",
          "height": 309
        },
        "id": "XFtrZDC6sUaW",
        "outputId": "86f54ee1-02ec-40e2-dc4f-83df20781310"
      },
      "execution_count": null,
      "outputs": [
        {
          "output_type": "execute_result",
          "data": {
            "text/plain": [
              "Text(0.5, 1.0, 'Exponential Function')"
            ]
          },
          "metadata": {},
          "execution_count": 14
        },
        {
          "output_type": "display_data",
          "data": {
            "text/plain": [
              "<Figure size 432x288 with 1 Axes>"
            ],
            "image/png": "[encoded data removed]"
          },
          "metadata": {}
        }
      ]
    }
  ]
}